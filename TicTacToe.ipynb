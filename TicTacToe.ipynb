{
 "cells": [
  {
   "cell_type": "code",
   "execution_count": 1,
   "metadata": {},
   "outputs": [],
   "source": [
    "from IPython.display import clear_output\n",
    "def display_board(board):\n",
    "    clear_output()\n",
    "    print('     |     |     ')\n",
    "    print('  ' + board[1] + '  |  ' + board[2] + '  |  ' + board[3] + '  ')\n",
    "    print('_____|_____|_____')\n",
    "    print('     |     |     ')\n",
    "    print('  ' + board[4] + '  |  ' + board[5] + '  |  ' + board[6] + '  ')\n",
    "    print('_____|_____|_____')\n",
    "    print('     |     |     ')\n",
    "    print('  ' + board[7] + '  |  ' + board[8] + '  |  ' + board[9] + '  ')\n",
    "    print('     |     |     ')"
   ]
  },
  {
   "cell_type": "code",
   "execution_count": 2,
   "metadata": {},
   "outputs": [],
   "source": [
    "def player_input():\n",
    "    marker = ''\n",
    "    while marker not in ['X','O']:\n",
    "        marker = input(\"Player 1 choose 'X' or 'O'\")\n",
    "    player1 = marker\n",
    "    player2 = 'X' if player1 != 'X' else 'O'\n",
    "    return (player1,player2)"
   ]
  },
  {
   "cell_type": "code",
   "execution_count": 3,
   "metadata": {},
   "outputs": [],
   "source": [
    "def place_marker(board, marker, position):\n",
    "    board[position] = marker"
   ]
  },
  {
   "cell_type": "code",
   "execution_count": 6,
   "metadata": {},
   "outputs": [],
   "source": [
    "def win_check(board, mark):\n",
    "     return ((board[7] == mark and board[8] == mark and board[9] == mark) or # across the top\n",
    "    (board[4] == mark and board[5] == mark and board[6] == mark) or # across the middle\n",
    "    (board[1] == mark and board[2] == mark and board[3] == mark) or # across the bottom\n",
    "    (board[7] == mark and board[4] == mark and board[1] == mark) or # down the middle\n",
    "    (board[8] == mark and board[5] == mark and board[2] == mark) or # down the middle\n",
    "    (board[9] == mark and board[6] == mark and board[3] == mark) or # down the right side\n",
    "    (board[7] == mark and board[5] == mark and board[3] == mark) or # diagonal\n",
    "    (board[9] == mark and board[5] == mark and board[1] == mark)) # diagonal"
   ]
  },
  {
   "cell_type": "code",
   "execution_count": 7,
   "metadata": {},
   "outputs": [],
   "source": [
    "import random\n",
    "def choose_first():\n",
    "    if random.randint(0,1) == 0:\n",
    "        return 'Player 1'\n",
    "    else:\n",
    "        return 'Player 2'"
   ]
  },
  {
   "cell_type": "code",
   "execution_count": 8,
   "metadata": {},
   "outputs": [],
   "source": [
    "def space_check(board, position):\n",
    "    return board[position] == ' '"
   ]
  },
  {
   "cell_type": "code",
   "execution_count": 9,
   "metadata": {},
   "outputs": [],
   "source": [
    "def full_board_check(board):\n",
    "    for i in range(1,10):\n",
    "        if space_check(board, i):\n",
    "            return False\n",
    "    return True"
   ]
  },
  {
   "cell_type": "code",
   "execution_count": 10,
   "metadata": {},
   "outputs": [],
   "source": [
    "def player_choice(board):\n",
    "    position = 0\n",
    "    while position not in range(1,10) or not space_check(board, position):\n",
    "        position = int(input('Choose your next position: (1-9) '))\n",
    "    return position"
   ]
  },
  {
   "cell_type": "code",
   "execution_count": 11,
   "metadata": {},
   "outputs": [],
   "source": [
    "def replay():\n",
    "    wanna_play = \"\"\n",
    "    while wanna_play not in ['Y','N']:\n",
    "        wanna_play = input('Do you want to play again? (Y/N):')\n",
    "    return wanna_play"
   ]
  },
  {
   "cell_type": "code",
   "execution_count": 12,
   "metadata": {},
   "outputs": [
    {
     "name": "stdout",
     "output_type": "stream",
     "text": [
      "     |     |     \n",
      "  O  |  X  |  O  \n",
      "_____|_____|_____\n",
      "     |     |     \n",
      "  X  |  O  |     \n",
      "_____|_____|_____\n",
      "     |     |     \n",
      "  O  |     |  X  \n",
      "     |     |     \n",
      "Player 2 won!\n",
      "Do you want to play again? (Y/N):N\n"
     ]
    }
   ],
   "source": [
    "print('Welcome to Tic Tac Toe!')\n",
    "while True:\n",
    "    board = [' ']*10\n",
    "    player_1, player_2 = player_input()\n",
    "    turn = choose_first()\n",
    "    print(turn +' will go first.')\n",
    "    play_game = \"\"\n",
    "    while play_game not in ['Y','N']:\n",
    "        play_game = input('Ready to play? (Y/N)')\n",
    "    if play_game == 'Y':\n",
    "        game_on = True\n",
    "    else:\n",
    "        game_on = False\n",
    "    while game_on:\n",
    "        if turn == 'Player 1':\n",
    "            display_board(board)\n",
    "            position = player_choice(board)\n",
    "            place_marker(board,player_1,position)\n",
    "            if win_check(board, player_1):\n",
    "                display_board(board)\n",
    "                print(\"Player 1 won!\")\n",
    "                game_on = False\n",
    "            else:\n",
    "                if full_board_check(board):\n",
    "                    display_board(board)\n",
    "                    print('The game is a draw!')\n",
    "                    game_on = False\n",
    "                else:\n",
    "                    turn = 'Player 2'  \n",
    "        else:\n",
    "            display_board(board)\n",
    "            position = player_choice(board)\n",
    "            place_marker(board,player_2,position)\n",
    "            if win_check(board, player_2):\n",
    "                display_board(board)\n",
    "                print(\"Player 2 won!\")\n",
    "                game_on = False\n",
    "            else:\n",
    "                if full_board_check(board):\n",
    "                    display_board(board)\n",
    "                    print('The game is a draw!')\n",
    "                    game_on = False\n",
    "                else:\n",
    "                    turn = 'Player 1' \n",
    "    wanna_play = replay()\n",
    "    if wanna_play == 'N':\n",
    "        break"
   ]
  }
 ],
 "metadata": {
  "kernelspec": {
   "display_name": "Python 3",
   "language": "python",
   "name": "python3"
  },
  "language_info": {
   "codemirror_mode": {
    "name": "ipython",
    "version": 3
   },
   "file_extension": ".py",
   "mimetype": "text/x-python",
   "name": "python",
   "nbconvert_exporter": "python",
   "pygments_lexer": "ipython3",
   "version": "3.8.5"
  }
 },
 "nbformat": 4,
 "nbformat_minor": 4
}
